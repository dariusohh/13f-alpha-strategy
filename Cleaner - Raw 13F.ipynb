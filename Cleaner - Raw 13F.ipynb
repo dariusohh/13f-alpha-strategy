{
 "cells": [
  {
   "cell_type": "code",
   "execution_count": 1,
   "id": "fabc6f79",
   "metadata": {},
   "outputs": [],
   "source": [
    "import numpy as np\n",
    "import pandas as pd\n",
    "import plotly.express as px\n",
    "import seaborn as sns\n",
    "import matplotlib.pyplot as plt\n",
    "import datetime\n",
    "\n",
    "from pandas.tseries.holiday import USFederalHolidayCalendar"
   ]
  },
  {
   "cell_type": "code",
   "execution_count": 2,
   "id": "f36d34e9",
   "metadata": {},
   "outputs": [
    {
     "name": "stderr",
     "output_type": "stream",
     "text": [
      "C:\\Users\\ohste\\AppData\\Local\\Temp\\ipykernel_16156\\2931917762.py:1: DtypeWarning: Columns (12) have mixed types. Specify dtype option on import or set low_memory=False.\n",
      "  holdings = pd.read_csv('raw_data/holdings_without_na.csv')\n"
     ]
    }
   ],
   "source": [
    "holdings = pd.read_csv('raw_data/holdings_without_na.csv')"
   ]
  },
  {
   "cell_type": "code",
   "execution_count": 3,
   "id": "92789b42",
   "metadata": {},
   "outputs": [
    {
     "name": "stdout",
     "output_type": "stream",
     "text": [
      "Number of rows of all holdings: 108529512\n"
     ]
    }
   ],
   "source": [
    "print(f\"Number of rows of all holdings: {len(holdings)}\")"
   ]
  },
  {
   "cell_type": "markdown",
   "id": "5177d638",
   "metadata": {},
   "source": [
    "# Remove filings after filing deadline"
   ]
  },
  {
   "cell_type": "code",
   "execution_count": 4,
   "id": "efb7fd6f",
   "metadata": {},
   "outputs": [],
   "source": [
    "holdings[\"date_filed\"] = pd.to_datetime(holdings[\"date_filed\"])\n",
    "holdings[\"date_holding\"] = pd.to_datetime(holdings[\"date_holding\"])"
   ]
  },
  {
   "cell_type": "code",
   "execution_count": 5,
   "id": "ccf019ea",
   "metadata": {},
   "outputs": [],
   "source": [
    "cal = USFederalHolidayCalendar()\n",
    "holidays = cal.holidays(start='2000-01-01', end='2022-12-31').to_pydatetime()\n",
    "\n",
    "# If deadline falls on Sat, Sun or Holiday, move to next business day\n",
    "def get_filing_deadline(quarter_end):\n",
    "    curr_deadline = quarter_end + datetime.timedelta(days=45)\n",
    "    while curr_deadline.weekday() >= 5 or curr_deadline in holidays:\n",
    "        curr_deadline = curr_deadline + datetime.timedelta(days=1)\n",
    "    return curr_deadline"
   ]
  },
  {
   "cell_type": "code",
   "execution_count": 6,
   "id": "cf75abb1",
   "metadata": {},
   "outputs": [],
   "source": [
    "filing_deadline_map = {}\n",
    "for quarter_end in holdings[\"date_holding\"].drop_duplicates():\n",
    "    filing_deadline_map[quarter_end] = get_filing_deadline(quarter_end)"
   ]
  },
  {
   "cell_type": "code",
   "execution_count": 7,
   "id": "3569c794",
   "metadata": {},
   "outputs": [
    {
     "data": {
      "text/plain": [
       "{Timestamp('1999-12-31 00:00:00'): Timestamp('2000-02-14 00:00:00'),\n",
       " Timestamp('1999-03-31 00:00:00'): Timestamp('1999-05-17 00:00:00'),\n",
       " Timestamp('1999-09-30 00:00:00'): Timestamp('1999-11-15 00:00:00'),\n",
       " Timestamp('1999-12-30 00:00:00'): Timestamp('2000-02-14 00:00:00'),\n",
       " Timestamp('1999-12-01 00:00:00'): Timestamp('2000-01-18 00:00:00'),\n",
       " Timestamp('1999-06-30 00:00:00'): Timestamp('1999-08-16 00:00:00'),\n",
       " Timestamp('2000-02-11 00:00:00'): Timestamp('2000-03-27 00:00:00'),\n",
       " Timestamp('2000-02-14 00:00:00'): Timestamp('2000-03-30 00:00:00'),\n",
       " Timestamp('1999-12-03 00:00:00'): Timestamp('2000-01-18 00:00:00'),\n",
       " Timestamp('2000-02-29 00:00:00'): Timestamp('2000-04-14 00:00:00'),\n",
       " Timestamp('2000-03-31 00:00:00'): Timestamp('2000-05-15 00:00:00'),\n",
       " Timestamp('2000-04-06 00:00:00'): Timestamp('2000-05-22 00:00:00'),\n",
       " Timestamp('2000-04-25 00:00:00'): Timestamp('2000-06-09 00:00:00'),\n",
       " Timestamp('2000-04-03 00:00:00'): Timestamp('2000-05-18 00:00:00'),\n",
       " Timestamp('2000-03-30 00:00:00'): Timestamp('2000-05-15 00:00:00'),\n",
       " Timestamp('2000-03-01 00:00:00'): Timestamp('2000-04-17 00:00:00'),\n",
       " Timestamp('2000-04-30 00:00:00'): Timestamp('2000-06-14 00:00:00'),\n",
       " Timestamp('2000-03-03 00:00:00'): Timestamp('2000-04-17 00:00:00'),\n",
       " Timestamp('2000-05-15 00:00:00'): Timestamp('2000-06-29 00:00:00'),\n",
       " Timestamp('2000-05-01 00:00:00'): Timestamp('2000-06-15 00:00:00'),\n",
       " Timestamp('2000-03-21 00:00:00'): Timestamp('2000-05-05 00:00:00'),\n",
       " Timestamp('2000-06-07 00:00:00'): Timestamp('2000-07-24 00:00:00'),\n",
       " Timestamp('2000-06-30 00:00:00'): Timestamp('2000-08-14 00:00:00'),\n",
       " Timestamp('2000-07-01 00:00:00'): Timestamp('2000-08-15 00:00:00'),\n",
       " Timestamp('2000-07-31 00:00:00'): Timestamp('2000-09-14 00:00:00'),\n",
       " Timestamp('2000-08-11 00:00:00'): Timestamp('2000-09-25 00:00:00'),\n",
       " Timestamp('2000-07-30 00:00:00'): Timestamp('2000-09-13 00:00:00'),\n",
       " Timestamp('2000-08-09 00:00:00'): Timestamp('2000-09-25 00:00:00'),\n",
       " Timestamp('2000-09-29 00:00:00'): Timestamp('2000-11-13 00:00:00'),\n",
       " Timestamp('2000-09-30 00:00:00'): Timestamp('2000-11-14 00:00:00'),\n",
       " Timestamp('2000-10-02 00:00:00'): Timestamp('2000-11-16 00:00:00'),\n",
       " Timestamp('1996-09-30 00:00:00'): Timestamp('1996-11-14 00:00:00'),\n",
       " Timestamp('2000-11-01 00:00:00'): Timestamp('2000-12-18 00:00:00'),\n",
       " Timestamp('2000-10-31 00:00:00'): Timestamp('2000-12-15 00:00:00'),\n",
       " Timestamp('2000-11-09 00:00:00'): Timestamp('2000-12-26 00:00:00'),\n",
       " Timestamp('2000-10-30 00:00:00'): Timestamp('2000-12-14 00:00:00'),\n",
       " Timestamp('2000-11-13 00:00:00'): Timestamp('2000-12-28 00:00:00'),\n",
       " Timestamp('2000-11-15 00:00:00'): Timestamp('2001-01-02 00:00:00'),\n",
       " Timestamp('2000-11-30 00:00:00'): Timestamp('2001-01-16 00:00:00'),\n",
       " Timestamp('1998-12-31 00:00:00'): Timestamp('1999-02-15 00:00:00'),\n",
       " Timestamp('2000-12-31 00:00:00'): Timestamp('2001-02-14 00:00:00'),\n",
       " Timestamp('2000-12-30 00:00:00'): Timestamp('2001-02-13 00:00:00'),\n",
       " Timestamp('2000-12-29 00:00:00'): Timestamp('2001-02-12 00:00:00'),\n",
       " Timestamp('2001-01-16 00:00:00'): Timestamp('2001-03-02 00:00:00'),\n",
       " Timestamp('2001-01-01 00:00:00'): Timestamp('2001-02-15 00:00:00'),\n",
       " Timestamp('2001-01-24 00:00:00'): Timestamp('2001-03-12 00:00:00'),\n",
       " Timestamp('2001-06-30 00:00:00'): Timestamp('2001-08-14 00:00:00'),\n",
       " Timestamp('2001-06-29 00:00:00'): Timestamp('2001-08-13 00:00:00'),\n",
       " Timestamp('2001-06-01 00:00:00'): Timestamp('2001-07-16 00:00:00'),\n",
       " Timestamp('2001-03-30 00:00:00'): Timestamp('2001-05-14 00:00:00'),\n",
       " Timestamp('2001-03-31 00:00:00'): Timestamp('2001-05-15 00:00:00'),\n",
       " Timestamp('2001-06-03 00:00:00'): Timestamp('2001-07-18 00:00:00'),\n",
       " Timestamp('2001-03-29 00:00:00'): Timestamp('2001-05-14 00:00:00'),\n",
       " Timestamp('2001-07-31 00:00:00'): Timestamp('2001-09-14 00:00:00'),\n",
       " Timestamp('2001-08-07 00:00:00'): Timestamp('2001-09-21 00:00:00'),\n",
       " Timestamp('2001-06-10 00:00:00'): Timestamp('2001-07-25 00:00:00'),\n",
       " Timestamp('2001-08-13 00:00:00'): Timestamp('2001-09-27 00:00:00'),\n",
       " Timestamp('2001-09-30 00:00:00'): Timestamp('2001-11-14 00:00:00'),\n",
       " Timestamp('2001-09-28 00:00:00'): Timestamp('2001-11-13 00:00:00'),\n",
       " Timestamp('2001-09-01 00:00:00'): Timestamp('2001-10-16 00:00:00'),\n",
       " Timestamp('2001-10-30 00:00:00'): Timestamp('2001-12-14 00:00:00'),\n",
       " Timestamp('2001-10-31 00:00:00'): Timestamp('2001-12-17 00:00:00'),\n",
       " Timestamp('2001-09-29 00:00:00'): Timestamp('2001-11-13 00:00:00'),\n",
       " Timestamp('2001-11-09 00:00:00'): Timestamp('2001-12-24 00:00:00'),\n",
       " Timestamp('2001-01-30 00:00:00'): Timestamp('2001-03-16 00:00:00'),\n",
       " Timestamp('2001-11-14 00:00:00'): Timestamp('2001-12-31 00:00:00'),\n",
       " Timestamp('2001-11-15 00:00:00'): Timestamp('2001-12-31 00:00:00'),\n",
       " Timestamp('2001-12-31 00:00:00'): Timestamp('2002-02-14 00:00:00'),\n",
       " Timestamp('2001-10-01 00:00:00'): Timestamp('2001-11-15 00:00:00'),\n",
       " Timestamp('2001-12-30 00:00:00'): Timestamp('2002-02-13 00:00:00'),\n",
       " Timestamp('2002-01-30 00:00:00'): Timestamp('2002-03-18 00:00:00'),\n",
       " Timestamp('2001-12-01 00:00:00'): Timestamp('2002-01-15 00:00:00'),\n",
       " Timestamp('2001-12-13 00:00:00'): Timestamp('2002-01-28 00:00:00'),\n",
       " Timestamp('2002-02-15 00:00:00'): Timestamp('2002-04-01 00:00:00'),\n",
       " Timestamp('2002-03-28 00:00:00'): Timestamp('2002-05-13 00:00:00'),\n",
       " Timestamp('2002-03-31 00:00:00'): Timestamp('2002-05-15 00:00:00'),\n",
       " Timestamp('2002-03-29 00:00:00'): Timestamp('2002-05-13 00:00:00'),\n",
       " Timestamp('2002-04-15 00:00:00'): Timestamp('2002-05-30 00:00:00'),\n",
       " Timestamp('2002-04-16 00:00:00'): Timestamp('2002-05-31 00:00:00'),\n",
       " Timestamp('2002-01-01 00:00:00'): Timestamp('2002-02-15 00:00:00'),\n",
       " Timestamp('2002-04-23 00:00:00'): Timestamp('2002-06-07 00:00:00'),\n",
       " Timestamp('2001-06-28 00:00:00'): Timestamp('2001-08-13 00:00:00'),\n",
       " Timestamp('2002-04-30 00:00:00'): Timestamp('2002-06-14 00:00:00'),\n",
       " Timestamp('2002-01-31 00:00:00'): Timestamp('2002-03-18 00:00:00'),\n",
       " Timestamp('2002-03-30 00:00:00'): Timestamp('2002-05-14 00:00:00'),\n",
       " Timestamp('2002-03-01 00:00:00'): Timestamp('2002-04-15 00:00:00'),\n",
       " Timestamp('2002-05-14 00:00:00'): Timestamp('2002-06-28 00:00:00'),\n",
       " Timestamp('2002-05-31 00:00:00'): Timestamp('2002-07-15 00:00:00'),\n",
       " Timestamp('2002-06-30 00:00:00'): Timestamp('2002-08-14 00:00:00'),\n",
       " Timestamp('2002-06-28 00:00:00'): Timestamp('2002-08-12 00:00:00'),\n",
       " Timestamp('2002-06-03 00:00:00'): Timestamp('2002-07-18 00:00:00'),\n",
       " Timestamp('2002-07-31 00:00:00'): Timestamp('2002-09-16 00:00:00'),\n",
       " Timestamp('2002-08-12 00:00:00'): Timestamp('2002-09-26 00:00:00'),\n",
       " Timestamp('2002-08-14 00:00:00'): Timestamp('2002-09-30 00:00:00'),\n",
       " Timestamp('2002-09-30 00:00:00'): Timestamp('2002-11-14 00:00:00'),\n",
       " Timestamp('2002-10-02 00:00:00'): Timestamp('2002-11-18 00:00:00'),\n",
       " Timestamp('2002-10-15 00:00:00'): Timestamp('2002-11-29 00:00:00'),\n",
       " Timestamp('2002-06-01 00:00:00'): Timestamp('2002-07-16 00:00:00'),\n",
       " Timestamp('2002-09-02 00:00:00'): Timestamp('2002-10-17 00:00:00'),\n",
       " Timestamp('2002-11-01 00:00:00'): Timestamp('2002-12-16 00:00:00'),\n",
       " Timestamp('2002-10-29 00:00:00'): Timestamp('2002-12-13 00:00:00'),\n",
       " Timestamp('2002-09-01 00:00:00'): Timestamp('2002-10-16 00:00:00'),\n",
       " Timestamp('2002-09-27 00:00:00'): Timestamp('2002-11-12 00:00:00'),\n",
       " Timestamp('2002-08-30 00:00:00'): Timestamp('2002-10-15 00:00:00'),\n",
       " Timestamp('2002-10-31 00:00:00'): Timestamp('2002-12-16 00:00:00'),\n",
       " Timestamp('2002-09-29 00:00:00'): Timestamp('2002-11-13 00:00:00'),\n",
       " Timestamp('2002-11-13 00:00:00'): Timestamp('2002-12-30 00:00:00'),\n",
       " Timestamp('2002-12-31 00:00:00'): Timestamp('2003-02-14 00:00:00'),\n",
       " Timestamp('2003-01-21 00:00:00'): Timestamp('2003-03-07 00:00:00'),\n",
       " Timestamp('2002-12-02 00:00:00'): Timestamp('2003-01-16 00:00:00'),\n",
       " Timestamp('2002-10-01 00:00:00'): Timestamp('2002-11-15 00:00:00'),\n",
       " Timestamp('2003-01-29 00:00:00'): Timestamp('2003-03-17 00:00:00'),\n",
       " Timestamp('2002-12-30 00:00:00'): Timestamp('2003-02-13 00:00:00'),\n",
       " Timestamp('2002-12-21 00:00:00'): Timestamp('2003-02-04 00:00:00'),\n",
       " Timestamp('2003-02-05 00:00:00'): Timestamp('2003-03-24 00:00:00'),\n",
       " Timestamp('2003-02-11 00:00:00'): Timestamp('2003-03-28 00:00:00'),\n",
       " Timestamp('2003-03-31 00:00:00'): Timestamp('2003-05-15 00:00:00'),\n",
       " Timestamp('2003-03-30 00:00:00'): Timestamp('2003-05-14 00:00:00'),\n",
       " Timestamp('2003-03-21 00:00:00'): Timestamp('2003-05-05 00:00:00'),\n",
       " Timestamp('2003-01-01 00:00:00'): Timestamp('2003-02-18 00:00:00'),\n",
       " Timestamp('2003-03-03 00:00:00'): Timestamp('2003-04-17 00:00:00'),\n",
       " Timestamp('2003-04-25 00:00:00'): Timestamp('2003-06-09 00:00:00'),\n",
       " Timestamp('2003-04-29 00:00:00'): Timestamp('2003-06-13 00:00:00'),\n",
       " Timestamp('2003-03-28 00:00:00'): Timestamp('2003-05-12 00:00:00'),\n",
       " Timestamp('2003-05-07 00:00:00'): Timestamp('2003-06-23 00:00:00'),\n",
       " Timestamp('2003-05-12 00:00:00'): Timestamp('2003-06-26 00:00:00'),\n",
       " Timestamp('2003-05-09 00:00:00'): Timestamp('2003-06-23 00:00:00'),\n",
       " Timestamp('2003-05-14 00:00:00'): Timestamp('2003-06-30 00:00:00'),\n",
       " Timestamp('2003-06-30 00:00:00'): Timestamp('2003-08-14 00:00:00'),\n",
       " Timestamp('2003-06-03 00:00:00'): Timestamp('2003-07-18 00:00:00'),\n",
       " Timestamp('2003-04-01 00:00:00'): Timestamp('2003-05-16 00:00:00'),\n",
       " Timestamp('2003-07-31 00:00:00'): Timestamp('2003-09-15 00:00:00'),\n",
       " Timestamp('2003-08-06 00:00:00'): Timestamp('2003-09-22 00:00:00'),\n",
       " Timestamp('2003-06-29 00:00:00'): Timestamp('2003-08-13 00:00:00'),\n",
       " Timestamp('2003-08-11 00:00:00'): Timestamp('2003-09-25 00:00:00'),\n",
       " Timestamp('2003-08-14 00:00:00'): Timestamp('2003-09-29 00:00:00'),\n",
       " Timestamp('2003-09-30 00:00:00'): Timestamp('2003-11-14 00:00:00'),\n",
       " Timestamp('2003-10-15 00:00:00'): Timestamp('2003-12-01 00:00:00'),\n",
       " Timestamp('2003-10-23 00:00:00'): Timestamp('2003-12-08 00:00:00'),\n",
       " Timestamp('2003-01-31 00:00:00'): Timestamp('2003-03-17 00:00:00'),\n",
       " Timestamp('2003-09-03 00:00:00'): Timestamp('2003-10-20 00:00:00'),\n",
       " Timestamp('2003-10-20 00:00:00'): Timestamp('2003-12-04 00:00:00'),\n",
       " Timestamp('2003-11-05 00:00:00'): Timestamp('2003-12-22 00:00:00'),\n",
       " Timestamp('2003-10-30 00:00:00'): Timestamp('2003-12-15 00:00:00'),\n",
       " Timestamp('2003-11-10 00:00:00'): Timestamp('2003-12-26 00:00:00'),\n",
       " Timestamp('2003-09-28 00:00:00'): Timestamp('2003-11-12 00:00:00'),\n",
       " Timestamp('2003-11-12 00:00:00'): Timestamp('2003-12-29 00:00:00'),\n",
       " Timestamp('2003-10-31 00:00:00'): Timestamp('2003-12-15 00:00:00'),\n",
       " Timestamp('2003-10-12 00:00:00'): Timestamp('2003-11-26 00:00:00'),\n",
       " Timestamp('2003-11-13 00:00:00'): Timestamp('2003-12-29 00:00:00'),\n",
       " Timestamp('2003-11-14 00:00:00'): Timestamp('2003-12-29 00:00:00'),\n",
       " Timestamp('2003-11-30 00:00:00'): Timestamp('2004-01-14 00:00:00'),\n",
       " Timestamp('2003-12-31 00:00:00'): Timestamp('2004-02-17 00:00:00'),\n",
       " Timestamp('2004-01-15 00:00:00'): Timestamp('2004-03-01 00:00:00'),\n",
       " Timestamp('2003-12-30 00:00:00'): Timestamp('2004-02-13 00:00:00'),\n",
       " Timestamp('2003-12-21 00:00:00'): Timestamp('2004-02-04 00:00:00'),\n",
       " Timestamp('2004-02-06 00:00:00'): Timestamp('2004-03-22 00:00:00'),\n",
       " Timestamp('2004-02-03 00:00:00'): Timestamp('2004-03-19 00:00:00'),\n",
       " Timestamp('2004-02-13 00:00:00'): Timestamp('2004-03-29 00:00:00'),\n",
       " Timestamp('2004-02-17 00:00:00'): Timestamp('2004-04-02 00:00:00'),\n",
       " Timestamp('2004-02-20 00:00:00'): Timestamp('2004-04-05 00:00:00'),\n",
       " Timestamp('2004-03-31 00:00:00'): Timestamp('2004-05-17 00:00:00'),\n",
       " Timestamp('2004-03-16 00:00:00'): Timestamp('2004-04-30 00:00:00'),\n",
       " Timestamp('2004-03-03 00:00:00'): Timestamp('2004-04-19 00:00:00'),\n",
       " Timestamp('2004-04-30 00:00:00'): Timestamp('2004-06-14 00:00:00'),\n",
       " Timestamp('2004-03-30 00:00:00'): Timestamp('2004-05-14 00:00:00'),\n",
       " Timestamp('2004-05-12 00:00:00'): Timestamp('2004-06-28 00:00:00'),\n",
       " Timestamp('2004-05-14 00:00:00'): Timestamp('2004-06-28 00:00:00'),\n",
       " Timestamp('2004-05-17 00:00:00'): Timestamp('2004-07-01 00:00:00'),\n",
       " Timestamp('2004-06-30 00:00:00'): Timestamp('2004-08-16 00:00:00'),\n",
       " Timestamp('2004-07-08 00:00:00'): Timestamp('2004-08-23 00:00:00'),\n",
       " Timestamp('2004-06-03 00:00:00'): Timestamp('2004-07-19 00:00:00'),\n",
       " Timestamp('2004-06-04 00:00:00'): Timestamp('2004-07-19 00:00:00'),\n",
       " Timestamp('2004-07-26 00:00:00'): Timestamp('2004-09-09 00:00:00'),\n",
       " Timestamp('2004-07-30 00:00:00'): Timestamp('2004-09-13 00:00:00'),\n",
       " Timestamp('2004-08-05 00:00:00'): Timestamp('2004-09-20 00:00:00'),\n",
       " Timestamp('2004-08-10 00:00:00'): Timestamp('2004-09-24 00:00:00'),\n",
       " Timestamp('2004-06-20 00:00:00'): Timestamp('2004-08-04 00:00:00'),\n",
       " Timestamp('2004-08-12 00:00:00'): Timestamp('2004-09-27 00:00:00'),\n",
       " Timestamp('2004-01-30 00:00:00'): Timestamp('2004-03-15 00:00:00'),\n",
       " Timestamp('2004-08-13 00:00:00'): Timestamp('2004-09-27 00:00:00'),\n",
       " Timestamp('2004-07-31 00:00:00'): Timestamp('2004-09-14 00:00:00'),\n",
       " Timestamp('2004-08-16 00:00:00'): Timestamp('2004-09-30 00:00:00'),\n",
       " Timestamp('2004-08-20 00:00:00'): Timestamp('2004-10-04 00:00:00'),\n",
       " Timestamp('2004-09-30 00:00:00'): Timestamp('2004-11-15 00:00:00'),\n",
       " Timestamp('2004-09-03 00:00:00'): Timestamp('2004-10-18 00:00:00'),\n",
       " Timestamp('2004-07-01 00:00:00'): Timestamp('2004-08-16 00:00:00'),\n",
       " Timestamp('2004-10-15 00:00:00'): Timestamp('2004-11-29 00:00:00'),\n",
       " Timestamp('2004-10-01 00:00:00'): Timestamp('2004-11-15 00:00:00'),\n",
       " Timestamp('2004-11-02 00:00:00'): Timestamp('2004-12-17 00:00:00'),\n",
       " Timestamp('2004-11-08 00:00:00'): Timestamp('2004-12-23 00:00:00'),\n",
       " Timestamp('2004-05-30 00:00:00'): Timestamp('2004-07-14 00:00:00'),\n",
       " Timestamp('2004-11-09 00:00:00'): Timestamp('2004-12-27 00:00:00'),\n",
       " Timestamp('2004-09-25 00:00:00'): Timestamp('2004-11-09 00:00:00'),\n",
       " Timestamp('2004-11-12 00:00:00'): Timestamp('2004-12-27 00:00:00'),\n",
       " Timestamp('2004-09-20 00:00:00'): Timestamp('2004-11-04 00:00:00'),\n",
       " Timestamp('2004-12-31 00:00:00'): Timestamp('2005-02-14 00:00:00'),\n",
       " Timestamp('2004-12-30 00:00:00'): Timestamp('2005-02-14 00:00:00'),\n",
       " Timestamp('2004-12-21 00:00:00'): Timestamp('2005-02-04 00:00:00'),\n",
       " Timestamp('2005-01-31 00:00:00'): Timestamp('2005-03-17 00:00:00'),\n",
       " Timestamp('2005-02-03 00:00:00'): Timestamp('2005-03-21 00:00:00'),\n",
       " Timestamp('2005-02-10 00:00:00'): Timestamp('2005-03-28 00:00:00'),\n",
       " Timestamp('2004-12-04 00:00:00'): Timestamp('2005-01-18 00:00:00'),\n",
       " Timestamp('2005-02-11 00:00:00'): Timestamp('2005-03-28 00:00:00'),\n",
       " Timestamp('2005-02-14 00:00:00'): Timestamp('2005-03-31 00:00:00'),\n",
       " Timestamp('2004-12-13 00:00:00'): Timestamp('2005-01-27 00:00:00'),\n",
       " Timestamp('2005-02-15 00:00:00'): Timestamp('2005-04-01 00:00:00'),\n",
       " Timestamp('2004-01-31 00:00:00'): Timestamp('2004-03-16 00:00:00'),\n",
       " Timestamp('2005-03-31 00:00:00'): Timestamp('2005-05-16 00:00:00'),\n",
       " Timestamp('2005-04-27 00:00:00'): Timestamp('2005-06-13 00:00:00'),\n",
       " Timestamp('2005-03-21 00:00:00'): Timestamp('2005-05-05 00:00:00'),\n",
       " Timestamp('2005-03-30 00:00:00'): Timestamp('2005-05-16 00:00:00'),\n",
       " Timestamp('2005-04-30 00:00:00'): Timestamp('2005-06-14 00:00:00'),\n",
       " Timestamp('2005-05-10 00:00:00'): Timestamp('2005-06-24 00:00:00'),\n",
       " Timestamp('2005-05-11 00:00:00'): Timestamp('2005-06-27 00:00:00'),\n",
       " Timestamp('2005-03-29 00:00:00'): Timestamp('2005-05-13 00:00:00'),\n",
       " Timestamp('2005-05-13 00:00:00'): Timestamp('2005-06-27 00:00:00'),\n",
       " Timestamp('2005-06-30 00:00:00'): Timestamp('2005-08-15 00:00:00'),\n",
       " Timestamp('2005-06-03 00:00:00'): Timestamp('2005-07-18 00:00:00'),\n",
       " Timestamp('2005-04-01 00:00:00'): Timestamp('2005-05-16 00:00:00'),\n",
       " Timestamp('2005-05-31 00:00:00'): Timestamp('2005-07-15 00:00:00'),\n",
       " Timestamp('2005-07-31 00:00:00'): Timestamp('2005-09-14 00:00:00'),\n",
       " Timestamp('2005-08-12 00:00:00'): Timestamp('2005-09-26 00:00:00'),\n",
       " Timestamp('2005-06-29 00:00:00'): Timestamp('2005-08-15 00:00:00'),\n",
       " Timestamp('2005-08-15 00:00:00'): Timestamp('2005-09-29 00:00:00'),\n",
       " Timestamp('2005-09-30 00:00:00'): Timestamp('2005-11-14 00:00:00'),\n",
       " Timestamp('2005-09-05 00:00:00'): Timestamp('2005-10-20 00:00:00'),\n",
       " Timestamp('2005-10-19 00:00:00'): Timestamp('2005-12-05 00:00:00'),\n",
       " Timestamp('2005-10-31 00:00:00'): Timestamp('2005-12-15 00:00:00'),\n",
       " Timestamp('2005-11-08 00:00:00'): Timestamp('2005-12-23 00:00:00'),\n",
       " Timestamp('2005-11-10 00:00:00'): Timestamp('2005-12-27 00:00:00'),\n",
       " Timestamp('2005-11-14 00:00:00'): Timestamp('2005-12-29 00:00:00'),\n",
       " Timestamp('2005-07-01 00:00:00'): Timestamp('2005-08-15 00:00:00'),\n",
       " Timestamp('2005-12-31 00:00:00'): Timestamp('2006-02-14 00:00:00'),\n",
       " Timestamp('2005-12-30 00:00:00'): Timestamp('2006-02-13 00:00:00'),\n",
       " Timestamp('2005-10-01 00:00:00'): Timestamp('2005-11-15 00:00:00'),\n",
       " Timestamp('2006-01-06 00:00:00'): Timestamp('2006-02-21 00:00:00'),\n",
       " Timestamp('2006-01-27 00:00:00'): Timestamp('2006-03-13 00:00:00'),\n",
       " Timestamp('2005-12-25 00:00:00'): Timestamp('2006-02-08 00:00:00'),\n",
       " Timestamp('2006-02-09 00:00:00'): Timestamp('2006-03-27 00:00:00'),\n",
       " Timestamp('2005-12-21 00:00:00'): Timestamp('2006-02-06 00:00:00'),\n",
       " Timestamp('2006-02-13 00:00:00'): Timestamp('2006-03-30 00:00:00'),\n",
       " Timestamp('2006-02-14 00:00:00'): Timestamp('2006-03-31 00:00:00'),\n",
       " Timestamp('2006-02-16 00:00:00'): Timestamp('2006-04-03 00:00:00'),\n",
       " Timestamp('2006-03-31 00:00:00'): Timestamp('2006-05-15 00:00:00'),\n",
       " Timestamp('2006-04-07 00:00:00'): Timestamp('2006-05-22 00:00:00'),\n",
       " Timestamp('2006-04-17 00:00:00'): Timestamp('2006-06-01 00:00:00'),\n",
       " Timestamp('2006-04-27 00:00:00'): Timestamp('2006-06-12 00:00:00'),\n",
       " Timestamp('2006-01-01 00:00:00'): Timestamp('2006-02-15 00:00:00'),\n",
       " Timestamp('2006-01-31 00:00:00'): Timestamp('2006-03-17 00:00:00'),\n",
       " Timestamp('2006-03-30 00:00:00'): Timestamp('2006-05-15 00:00:00'),\n",
       " Timestamp('2006-04-30 00:00:00'): Timestamp('2006-06-14 00:00:00'),\n",
       " Timestamp('2006-05-12 00:00:00'): Timestamp('2006-06-26 00:00:00'),\n",
       " Timestamp('2006-03-13 00:00:00'): Timestamp('2006-04-27 00:00:00'),\n",
       " Timestamp('2006-03-03 00:00:00'): Timestamp('2006-04-17 00:00:00'),\n",
       " Timestamp('2006-05-16 00:00:00'): Timestamp('2006-06-30 00:00:00'),\n",
       " Timestamp('2006-06-30 00:00:00'): Timestamp('2006-08-14 00:00:00'),\n",
       " Timestamp('2006-05-30 00:00:00'): Timestamp('2006-07-14 00:00:00'),\n",
       " Timestamp('2006-07-02 00:00:00'): Timestamp('2006-08-16 00:00:00'),\n",
       " Timestamp('2006-06-06 00:00:00'): Timestamp('2006-07-21 00:00:00'),\n",
       " Timestamp('2006-07-28 00:00:00'): Timestamp('2006-09-11 00:00:00'),\n",
       " Timestamp('2006-06-03 00:00:00'): Timestamp('2006-07-18 00:00:00'),\n",
       " Timestamp('2006-06-20 00:00:00'): Timestamp('2006-08-04 00:00:00'),\n",
       " Timestamp('2006-08-14 00:00:00'): Timestamp('2006-09-28 00:00:00'),\n",
       " Timestamp('2006-08-15 00:00:00'): Timestamp('2006-09-29 00:00:00'),\n",
       " Timestamp('2006-07-31 00:00:00'): Timestamp('2006-09-14 00:00:00'),\n",
       " Timestamp('2006-09-29 00:00:00'): Timestamp('2006-11-13 00:00:00'),\n",
       " Timestamp('2006-09-30 00:00:00'): Timestamp('2006-11-14 00:00:00'),\n",
       " Timestamp('2006-10-17 00:00:00'): Timestamp('2006-12-01 00:00:00'),\n",
       " Timestamp('2006-10-25 00:00:00'): Timestamp('2006-12-11 00:00:00'),\n",
       " Timestamp('2006-10-26 00:00:00'): Timestamp('2006-12-11 00:00:00'),\n",
       " Timestamp('2006-10-31 00:00:00'): Timestamp('2006-12-15 00:00:00'),\n",
       " Timestamp('2006-11-07 00:00:00'): Timestamp('2006-12-22 00:00:00'),\n",
       " Timestamp('2006-09-20 00:00:00'): Timestamp('2006-11-06 00:00:00'),\n",
       " Timestamp('2006-11-14 00:00:00'): Timestamp('2006-12-29 00:00:00'),\n",
       " Timestamp('2006-12-31 00:00:00'): Timestamp('2007-02-14 00:00:00'),\n",
       " Timestamp('2006-12-29 00:00:00'): Timestamp('2007-02-12 00:00:00'),\n",
       " Timestamp('2007-01-29 00:00:00'): Timestamp('2007-03-15 00:00:00'),\n",
       " Timestamp('2007-02-01 00:00:00'): Timestamp('2007-03-19 00:00:00'),\n",
       " Timestamp('2006-12-30 00:00:00'): Timestamp('2007-02-13 00:00:00'),\n",
       " Timestamp('2007-02-13 00:00:00'): Timestamp('2007-03-30 00:00:00'),\n",
       " Timestamp('2006-12-21 00:00:00'): Timestamp('2007-02-05 00:00:00'),\n",
       " Timestamp('2007-02-15 00:00:00'): Timestamp('2007-04-02 00:00:00'),\n",
       " Timestamp('2007-03-31 00:00:00'): Timestamp('2007-05-15 00:00:00'),\n",
       " Timestamp('2007-03-30 00:00:00'): Timestamp('2007-05-14 00:00:00'),\n",
       " Timestamp('2007-02-28 00:00:00'): Timestamp('2007-04-16 00:00:00'),\n",
       " Timestamp('2007-04-17 00:00:00'): Timestamp('2007-06-01 00:00:00'),\n",
       " Timestamp('2007-04-20 00:00:00'): Timestamp('2007-06-04 00:00:00'),\n",
       " Timestamp('2007-04-25 00:00:00'): Timestamp('2007-06-11 00:00:00'),\n",
       " Timestamp('2007-04-30 00:00:00'): Timestamp('2007-06-14 00:00:00'),\n",
       " Timestamp('2007-03-05 00:00:00'): Timestamp('2007-04-19 00:00:00'),\n",
       " Timestamp('2007-05-14 00:00:00'): Timestamp('2007-06-28 00:00:00'),\n",
       " Timestamp('2007-01-31 00:00:00'): Timestamp('2007-03-19 00:00:00'),\n",
       " Timestamp('2007-04-02 00:00:00'): Timestamp('2007-05-17 00:00:00'),\n",
       " Timestamp('2007-06-30 00:00:00'): Timestamp('2007-08-14 00:00:00'),\n",
       " Timestamp('2007-07-02 00:00:00'): Timestamp('2007-08-16 00:00:00'),\n",
       " Timestamp('2007-06-29 00:00:00'): Timestamp('2007-08-13 00:00:00'),\n",
       " Timestamp('2007-07-09 00:00:00'): Timestamp('2007-08-23 00:00:00'),\n",
       " Timestamp('2006-06-29 00:00:00'): Timestamp('2006-08-14 00:00:00'),\n",
       " Timestamp('2007-07-31 00:00:00'): Timestamp('2007-09-14 00:00:00'),\n",
       " Timestamp('2007-06-20 00:00:00'): Timestamp('2007-08-06 00:00:00'),\n",
       " Timestamp('2007-08-10 00:00:00'): Timestamp('2007-09-24 00:00:00'),\n",
       " Timestamp('2007-08-13 00:00:00'): Timestamp('2007-09-27 00:00:00'),\n",
       " Timestamp('2007-07-27 00:00:00'): Timestamp('2007-09-10 00:00:00'),\n",
       " Timestamp('2007-08-14 00:00:00'): Timestamp('2007-09-28 00:00:00'),\n",
       " Timestamp('2007-08-09 00:00:00'): Timestamp('2007-09-24 00:00:00'),\n",
       " Timestamp('2007-08-22 00:00:00'): Timestamp('2007-10-09 00:00:00'),\n",
       " Timestamp('2007-09-28 00:00:00'): Timestamp('2007-11-13 00:00:00'),\n",
       " Timestamp('2007-09-30 00:00:00'): Timestamp('2007-11-14 00:00:00'),\n",
       " Timestamp('2007-09-20 00:00:00'): Timestamp('2007-11-05 00:00:00'),\n",
       " Timestamp('2007-10-02 00:00:00'): Timestamp('2007-11-16 00:00:00'),\n",
       " Timestamp('2007-08-31 00:00:00'): Timestamp('2007-10-15 00:00:00'),\n",
       " Timestamp('2007-10-19 00:00:00'): Timestamp('2007-12-03 00:00:00'),\n",
       " Timestamp('2007-10-23 00:00:00'): Timestamp('2007-12-07 00:00:00'),\n",
       " Timestamp('2007-09-29 00:00:00'): Timestamp('2007-11-13 00:00:00'),\n",
       " Timestamp('2007-10-31 00:00:00'): Timestamp('2007-12-17 00:00:00'),\n",
       " Timestamp('2007-11-05 00:00:00'): Timestamp('2007-12-20 00:00:00'),\n",
       " Timestamp('2007-11-14 00:00:00'): Timestamp('2007-12-31 00:00:00'),\n",
       " Timestamp('2007-09-03 00:00:00'): Timestamp('2007-10-18 00:00:00'),\n",
       " Timestamp('2007-12-31 00:00:00'): Timestamp('2008-02-14 00:00:00'),\n",
       " Timestamp('2008-01-09 00:00:00'): Timestamp('2008-02-25 00:00:00'),\n",
       " Timestamp('2007-12-21 00:00:00'): Timestamp('2008-02-04 00:00:00'),\n",
       " Timestamp('2007-12-13 00:00:00'): Timestamp('2008-01-28 00:00:00'),\n",
       " Timestamp('2008-02-14 00:00:00'): Timestamp('2008-03-31 00:00:00'),\n",
       " Timestamp('2007-12-30 00:00:00'): Timestamp('2008-02-13 00:00:00'),\n",
       " Timestamp('2008-03-31 00:00:00'): Timestamp('2008-05-15 00:00:00'),\n",
       " Timestamp('2008-03-03 00:00:00'): Timestamp('2008-04-17 00:00:00'),\n",
       " Timestamp('2008-04-09 00:00:00'): Timestamp('2008-05-27 00:00:00'),\n",
       " Timestamp('2008-01-31 00:00:00'): Timestamp('2008-03-17 00:00:00'),\n",
       " Timestamp('2008-03-30 00:00:00'): Timestamp('2008-05-14 00:00:00'),\n",
       " Timestamp('2008-03-09 00:00:00'): Timestamp('2008-04-23 00:00:00'),\n",
       " Timestamp('2008-03-15 00:00:00'): Timestamp('2008-04-29 00:00:00'),\n",
       " Timestamp('2008-05-14 00:00:00'): Timestamp('2008-06-30 00:00:00'),\n",
       " Timestamp('2008-03-08 00:00:00'): Timestamp('2008-04-22 00:00:00'),\n",
       " Timestamp('2008-01-01 00:00:00'): Timestamp('2008-02-15 00:00:00'),\n",
       " Timestamp('2008-06-30 00:00:00'): Timestamp('2008-08-14 00:00:00'),\n",
       " Timestamp('2008-07-15 00:00:00'): Timestamp('2008-08-29 00:00:00'),\n",
       " Timestamp('2008-06-20 00:00:00'): Timestamp('2008-08-04 00:00:00'),\n",
       " Timestamp('2008-07-28 00:00:00'): Timestamp('2008-09-11 00:00:00'),\n",
       " Timestamp('2008-08-04 00:00:00'): Timestamp('2008-09-18 00:00:00'),\n",
       " Timestamp('2008-07-31 00:00:00'): Timestamp('2008-09-15 00:00:00'),\n",
       " Timestamp('2008-08-12 00:00:00'): Timestamp('2008-09-26 00:00:00'),\n",
       " Timestamp('2008-08-11 00:00:00'): Timestamp('2008-09-25 00:00:00'),\n",
       " Timestamp('2008-05-30 00:00:00'): Timestamp('2008-07-14 00:00:00'),\n",
       " Timestamp('2008-05-31 00:00:00'): Timestamp('2008-07-15 00:00:00'),\n",
       " Timestamp('2008-06-03 00:00:00'): Timestamp('2008-07-18 00:00:00'),\n",
       " Timestamp('2008-08-21 00:00:00'): Timestamp('2008-10-06 00:00:00'),\n",
       " Timestamp('2008-09-30 00:00:00'): Timestamp('2008-11-14 00:00:00'),\n",
       " Timestamp('2008-10-07 00:00:00'): Timestamp('2008-11-21 00:00:00'),\n",
       " Timestamp('2008-10-20 00:00:00'): Timestamp('2008-12-04 00:00:00'),\n",
       " Timestamp('2008-07-01 00:00:00'): Timestamp('2008-08-15 00:00:00'),\n",
       " Timestamp('2008-09-15 00:00:00'): Timestamp('2008-10-30 00:00:00'),\n",
       " Timestamp('2008-10-31 00:00:00'): Timestamp('2008-12-15 00:00:00'),\n",
       " Timestamp('2008-10-27 00:00:00'): Timestamp('2008-12-11 00:00:00'),\n",
       " Timestamp('2008-08-30 00:00:00'): Timestamp('2008-10-14 00:00:00'),\n",
       " Timestamp('2008-08-31 00:00:00'): Timestamp('2008-10-15 00:00:00'),\n",
       " Timestamp('2008-11-14 00:00:00'): Timestamp('2008-12-29 00:00:00'),\n",
       " Timestamp('2008-09-20 00:00:00'): Timestamp('2008-11-04 00:00:00'),\n",
       " Timestamp('2008-12-31 00:00:00'): Timestamp('2009-02-17 00:00:00'),\n",
       " Timestamp('2008-12-30 00:00:00'): Timestamp('2009-02-13 00:00:00'),\n",
       " Timestamp('2009-01-14 00:00:00'): Timestamp('2009-03-02 00:00:00'),\n",
       " Timestamp('2009-01-16 00:00:00'): Timestamp('2009-03-02 00:00:00'),\n",
       " Timestamp('2009-01-20 00:00:00'): Timestamp('2009-03-06 00:00:00'),\n",
       " Timestamp('2009-01-18 00:00:00'): Timestamp('2009-03-04 00:00:00'),\n",
       " Timestamp('2008-12-21 00:00:00'): Timestamp('2009-02-04 00:00:00'),\n",
       " Timestamp('2008-12-29 00:00:00'): Timestamp('2009-02-12 00:00:00'),\n",
       " Timestamp('2009-03-31 00:00:00'): Timestamp('2009-05-15 00:00:00'),\n",
       " Timestamp('2009-04-01 00:00:00'): Timestamp('2009-05-18 00:00:00'),\n",
       " Timestamp('2009-03-03 00:00:00'): Timestamp('2009-04-17 00:00:00'),\n",
       " Timestamp('2009-03-30 00:00:00'): Timestamp('2009-05-14 00:00:00'),\n",
       " Timestamp('2009-05-13 00:00:00'): Timestamp('2009-06-29 00:00:00'),\n",
       " Timestamp('2009-04-30 00:00:00'): Timestamp('2009-06-15 00:00:00'),\n",
       " Timestamp('2007-03-01 00:00:00'): Timestamp('2007-04-16 00:00:00'),\n",
       " Timestamp('2009-06-30 00:00:00'): Timestamp('2009-08-14 00:00:00'),\n",
       " Timestamp('2009-08-07 00:00:00'): Timestamp('2009-09-21 00:00:00'),\n",
       " Timestamp('2009-06-23 00:00:00'): Timestamp('2009-08-07 00:00:00'),\n",
       " Timestamp('2009-06-03 00:00:00'): Timestamp('2009-07-20 00:00:00'),\n",
       " Timestamp('2009-08-13 00:00:00'): Timestamp('2009-09-28 00:00:00'),\n",
       " Timestamp('2009-07-30 00:00:00'): Timestamp('2009-09-14 00:00:00'),\n",
       " Timestamp('2009-09-30 00:00:00'): Timestamp('2009-11-16 00:00:00'),\n",
       " Timestamp('2009-10-22 00:00:00'): Timestamp('2009-12-07 00:00:00'),\n",
       " Timestamp('2009-09-09 00:00:00'): Timestamp('2009-10-26 00:00:00'),\n",
       " Timestamp('2009-10-31 00:00:00'): Timestamp('2009-12-15 00:00:00'),\n",
       " Timestamp('2009-08-30 00:00:00'): Timestamp('2009-10-14 00:00:00'),\n",
       " Timestamp('2009-09-03 00:00:00'): Timestamp('2009-10-19 00:00:00'),\n",
       " Timestamp('2009-10-30 00:00:00'): Timestamp('2009-12-14 00:00:00'),\n",
       " Timestamp('2009-11-13 00:00:00'): Timestamp('2009-12-28 00:00:00'),\n",
       " Timestamp('2009-12-31 00:00:00'): Timestamp('2010-02-16 00:00:00'),\n",
       " Timestamp('2009-12-30 00:00:00'): Timestamp('2010-02-16 00:00:00'),\n",
       " Timestamp('2010-02-04 00:00:00'): Timestamp('2010-03-22 00:00:00'),\n",
       " Timestamp('2010-01-31 00:00:00'): Timestamp('2010-03-17 00:00:00'),\n",
       " Timestamp('2009-02-09 00:00:00'): Timestamp('2009-03-26 00:00:00'),\n",
       " Timestamp('2010-02-11 00:00:00'): Timestamp('2010-03-29 00:00:00'),\n",
       " Timestamp('2010-02-12 00:00:00'): Timestamp('2010-03-29 00:00:00'),\n",
       " Timestamp('2010-02-16 00:00:00'): Timestamp('2010-04-02 00:00:00'),\n",
       " Timestamp('2010-03-31 00:00:00'): Timestamp('2010-05-17 00:00:00'),\n",
       " Timestamp('2010-04-15 00:00:00'): Timestamp('2010-06-01 00:00:00'),\n",
       " Timestamp('2010-03-10 00:00:00'): Timestamp('2010-04-26 00:00:00'),\n",
       " Timestamp('2010-04-30 00:00:00'): Timestamp('2010-06-14 00:00:00'),\n",
       " Timestamp('2010-05-07 00:00:00'): Timestamp('2010-06-21 00:00:00'),\n",
       " Timestamp('2010-03-30 00:00:00'): Timestamp('2010-05-14 00:00:00'),\n",
       " Timestamp('2010-05-11 00:00:00'): Timestamp('2010-06-25 00:00:00'),\n",
       " Timestamp('2010-05-14 00:00:00'): Timestamp('2010-06-28 00:00:00'),\n",
       " Timestamp('2010-06-30 00:00:00'): Timestamp('2010-08-16 00:00:00'),\n",
       " Timestamp('2010-07-16 00:00:00'): Timestamp('2010-08-30 00:00:00'),\n",
       " Timestamp('2010-07-22 00:00:00'): Timestamp('2010-09-07 00:00:00'),\n",
       " Timestamp('2010-06-03 00:00:00'): Timestamp('2010-07-19 00:00:00'),\n",
       " Timestamp('2010-08-09 00:00:00'): Timestamp('2010-09-23 00:00:00'),\n",
       " Timestamp('2010-08-12 00:00:00'): Timestamp('2010-09-27 00:00:00'),\n",
       " Timestamp('2010-08-13 00:00:00'): Timestamp('2010-09-27 00:00:00'),\n",
       " Timestamp('2010-09-07 00:00:00'): Timestamp('2010-10-22 00:00:00'),\n",
       " Timestamp('2010-09-30 00:00:00'): Timestamp('2010-11-15 00:00:00'),\n",
       " Timestamp('2010-10-01 00:00:00'): Timestamp('2010-11-15 00:00:00'),\n",
       " Timestamp('2010-10-15 00:00:00'): Timestamp('2010-11-29 00:00:00'),\n",
       " Timestamp('2010-10-20 00:00:00'): Timestamp('2010-12-06 00:00:00'),\n",
       " Timestamp('2010-10-28 00:00:00'): Timestamp('2010-12-13 00:00:00'),\n",
       " Timestamp('2010-10-29 00:00:00'): Timestamp('2010-12-13 00:00:00'),\n",
       " Timestamp('2010-11-09 00:00:00'): Timestamp('2010-12-27 00:00:00'),\n",
       " Timestamp('2010-11-11 00:00:00'): Timestamp('2010-12-27 00:00:00'),\n",
       " Timestamp('2010-11-12 00:00:00'): Timestamp('2010-12-27 00:00:00'),\n",
       " Timestamp('2010-11-10 00:00:00'): Timestamp('2010-12-27 00:00:00'),\n",
       " Timestamp('2010-11-15 00:00:00'): Timestamp('2010-12-30 00:00:00'),\n",
       " Timestamp('2010-12-31 00:00:00'): Timestamp('2011-02-14 00:00:00'),\n",
       " Timestamp('2010-10-31 00:00:00'): Timestamp('2010-12-15 00:00:00'),\n",
       " Timestamp('2010-12-30 00:00:00'): Timestamp('2011-02-14 00:00:00'),\n",
       " Timestamp('2010-12-21 00:00:00'): Timestamp('2011-02-04 00:00:00'),\n",
       " Timestamp('2011-01-25 00:00:00'): Timestamp('2011-03-11 00:00:00'),\n",
       " Timestamp('2011-02-08 00:00:00'): Timestamp('2011-03-25 00:00:00'),\n",
       " Timestamp('2011-02-09 00:00:00'): Timestamp('2011-03-28 00:00:00'),\n",
       " Timestamp('2011-02-10 00:00:00'): Timestamp('2011-03-28 00:00:00'),\n",
       " Timestamp('2011-02-11 00:00:00'): Timestamp('2011-03-28 00:00:00'),\n",
       " Timestamp('2011-02-07 00:00:00'): Timestamp('2011-03-24 00:00:00'),\n",
       " Timestamp('2011-02-14 00:00:00'): Timestamp('2011-03-31 00:00:00'),\n",
       " Timestamp('2011-03-31 00:00:00'): Timestamp('2011-05-16 00:00:00'),\n",
       " Timestamp('2011-01-31 00:00:00'): Timestamp('2011-03-17 00:00:00'),\n",
       " Timestamp('2011-03-03 00:00:00'): Timestamp('2011-04-18 00:00:00'),\n",
       " Timestamp('2011-04-25 00:00:00'): Timestamp('2011-06-09 00:00:00'),\n",
       " Timestamp('2011-05-05 00:00:00'): Timestamp('2011-06-20 00:00:00'),\n",
       " Timestamp('2011-05-06 00:00:00'): Timestamp('2011-06-20 00:00:00'),\n",
       " Timestamp('2011-03-21 00:00:00'): Timestamp('2011-05-05 00:00:00'),\n",
       " Timestamp('2011-03-30 00:00:00'): Timestamp('2011-05-16 00:00:00'),\n",
       " Timestamp('2011-05-12 00:00:00'): Timestamp('2011-06-27 00:00:00'),\n",
       " Timestamp('2011-03-11 00:00:00'): Timestamp('2011-04-25 00:00:00'),\n",
       " Timestamp('2011-06-30 00:00:00'): Timestamp('2011-08-15 00:00:00'),\n",
       " Timestamp('2011-07-07 00:00:00'): Timestamp('2011-08-22 00:00:00'),\n",
       " Timestamp('2011-07-24 00:00:00'): Timestamp('2011-09-07 00:00:00'),\n",
       " Timestamp('2011-08-04 00:00:00'): Timestamp('2011-09-19 00:00:00'),\n",
       " Timestamp('2011-08-08 00:00:00'): Timestamp('2011-09-22 00:00:00'),\n",
       " Timestamp('2011-08-10 00:00:00'): Timestamp('2011-09-26 00:00:00'),\n",
       " Timestamp('2011-08-11 00:00:00'): Timestamp('2011-09-26 00:00:00'),\n",
       " Timestamp('2011-08-03 00:00:00'): Timestamp('2011-09-19 00:00:00'),\n",
       " Timestamp('2011-08-15 00:00:00'): Timestamp('2011-09-29 00:00:00'),\n",
       " Timestamp('2011-09-30 00:00:00'): Timestamp('2011-11-14 00:00:00'),\n",
       " Timestamp('2011-12-31 00:00:00'): Timestamp('2012-02-14 00:00:00'),\n",
       " Timestamp('2012-03-31 00:00:00'): Timestamp('2012-05-15 00:00:00'),\n",
       " Timestamp('2012-06-30 00:00:00'): Timestamp('2012-08-14 00:00:00'),\n",
       " Timestamp('2012-09-30 00:00:00'): Timestamp('2012-11-14 00:00:00'),\n",
       " Timestamp('2012-12-31 00:00:00'): Timestamp('2013-02-14 00:00:00'),\n",
       " Timestamp('2013-03-31 00:00:00'): Timestamp('2013-05-15 00:00:00'),\n",
       " Timestamp('2013-06-30 00:00:00'): Timestamp('2013-08-14 00:00:00'),\n",
       " Timestamp('2013-09-30 00:00:00'): Timestamp('2013-11-14 00:00:00'),\n",
       " Timestamp('2013-12-31 00:00:00'): Timestamp('2014-02-14 00:00:00'),\n",
       " Timestamp('2014-03-31 00:00:00'): Timestamp('2014-05-15 00:00:00'),\n",
       " Timestamp('2014-06-30 00:00:00'): Timestamp('2014-08-14 00:00:00'),\n",
       " Timestamp('2014-09-30 00:00:00'): Timestamp('2014-11-14 00:00:00'),\n",
       " Timestamp('2014-12-31 00:00:00'): Timestamp('2015-02-17 00:00:00'),\n",
       " Timestamp('2015-03-31 00:00:00'): Timestamp('2015-05-15 00:00:00'),\n",
       " Timestamp('2015-06-30 00:00:00'): Timestamp('2015-08-14 00:00:00'),\n",
       " Timestamp('2015-09-30 00:00:00'): Timestamp('2015-11-16 00:00:00'),\n",
       " Timestamp('2015-12-31 00:00:00'): Timestamp('2016-02-16 00:00:00'),\n",
       " Timestamp('2016-03-31 00:00:00'): Timestamp('2016-05-16 00:00:00'),\n",
       " Timestamp('2016-06-30 00:00:00'): Timestamp('2016-08-15 00:00:00'),\n",
       " Timestamp('2016-09-30 00:00:00'): Timestamp('2016-11-14 00:00:00'),\n",
       " Timestamp('2016-12-31 00:00:00'): Timestamp('2017-02-14 00:00:00'),\n",
       " Timestamp('2017-03-31 00:00:00'): Timestamp('2017-05-15 00:00:00'),\n",
       " Timestamp('2017-06-30 00:00:00'): Timestamp('2017-08-14 00:00:00'),\n",
       " Timestamp('2017-09-30 00:00:00'): Timestamp('2017-11-14 00:00:00'),\n",
       " Timestamp('2017-12-31 00:00:00'): Timestamp('2018-02-14 00:00:00'),\n",
       " Timestamp('2018-03-31 00:00:00'): Timestamp('2018-05-15 00:00:00'),\n",
       " Timestamp('2018-06-30 00:00:00'): Timestamp('2018-08-14 00:00:00'),\n",
       " Timestamp('2018-09-30 00:00:00'): Timestamp('2018-11-14 00:00:00'),\n",
       " Timestamp('2018-12-31 00:00:00'): Timestamp('2019-02-14 00:00:00'),\n",
       " Timestamp('2019-03-31 00:00:00'): Timestamp('2019-05-15 00:00:00'),\n",
       " Timestamp('2019-06-30 00:00:00'): Timestamp('2019-08-14 00:00:00'),\n",
       " Timestamp('2019-09-30 00:00:00'): Timestamp('2019-11-14 00:00:00'),\n",
       " Timestamp('2019-12-31 00:00:00'): Timestamp('2020-02-14 00:00:00'),\n",
       " Timestamp('2020-03-31 00:00:00'): Timestamp('2020-05-15 00:00:00'),\n",
       " Timestamp('2020-06-30 00:00:00'): Timestamp('2020-08-14 00:00:00'),\n",
       " Timestamp('2020-09-30 00:00:00'): Timestamp('2020-11-16 00:00:00'),\n",
       " Timestamp('2020-12-31 00:00:00'): Timestamp('2021-02-16 00:00:00'),\n",
       " Timestamp('2021-03-31 00:00:00'): Timestamp('2021-05-17 00:00:00'),\n",
       " Timestamp('2021-06-30 00:00:00'): Timestamp('2021-08-16 00:00:00'),\n",
       " Timestamp('2021-09-30 00:00:00'): Timestamp('2021-11-15 00:00:00'),\n",
       " Timestamp('2021-12-31 00:00:00'): Timestamp('2022-02-14 00:00:00'),\n",
       " Timestamp('2022-03-31 00:00:00'): Timestamp('2022-05-16 00:00:00'),\n",
       " Timestamp('1987-03-31 00:00:00'): Timestamp('1987-05-15 00:00:00')}"
      ]
     },
     "execution_count": 7,
     "metadata": {},
     "output_type": "execute_result"
    }
   ],
   "source": [
    "filing_deadline_map"
   ]
  },
  {
   "cell_type": "code",
   "execution_count": 8,
   "id": "af534363",
   "metadata": {},
   "outputs": [],
   "source": [
    "holdings[\"filing_deadline\"] = holdings[\"date_holding\"].apply(lambda x: filing_deadline_map[x])"
   ]
  },
  {
   "cell_type": "code",
   "execution_count": 9,
   "id": "563f233d",
   "metadata": {},
   "outputs": [],
   "source": [
    "holdings = holdings[holdings.date_filed <= holdings.filing_deadline]"
   ]
  },
  {
   "cell_type": "markdown",
   "id": "23474c2c",
   "metadata": {},
   "source": [
    "# Filter for US Holdings, add ticker symbol, remove delisted symbols"
   ]
  },
  {
   "cell_type": "code",
   "execution_count": 9,
   "id": "7060f6b6",
   "metadata": {},
   "outputs": [],
   "source": [
    "# Ticker information for US holdings\n",
    "ticker_meta = pd.read_csv('raw_data/ticker_meta.csv')"
   ]
  },
  {
   "cell_type": "code",
   "execution_count": 5,
   "id": "2524b945",
   "metadata": {},
   "outputs": [],
   "source": [
    "ticker_cusip_map = ticker_meta[(ticker_meta.exchange != \"OTC\") & (~ticker_meta.isDelisted)][[\"ticker\",\"cusip\"]]\n",
    "ticker_cusip_map[\"cusip\"] = ticker_cusip_map[\"cusip\"].apply(lambda x: str(x).split(\" \"))\n",
    "ticker_cusip_map = ticker_cusip_map.explode('cusip')\n",
    "ticker_cusip_map = ticker_cusip_map.drop_duplicates()\n",
    "ticker_cusip_map = ticker_cusip_map[ticker_cusip_map.cusip != \"nan\"]"
   ]
  },
  {
   "cell_type": "code",
   "execution_count": 6,
   "id": "5c907afb",
   "metadata": {},
   "outputs": [],
   "source": [
    "us_holdings = holdings.merge(ticker_cusip_map, on=\"cusip\", how=\"inner\")"
   ]
  },
  {
   "cell_type": "code",
   "execution_count": 7,
   "id": "01b10c77",
   "metadata": {},
   "outputs": [],
   "source": [
    "del holdings"
   ]
  },
  {
   "cell_type": "code",
   "execution_count": 8,
   "id": "3138447c",
   "metadata": {},
   "outputs": [],
   "source": [
    "# Remove ticker suffix to match with pricing data\n",
    "us_holdings[\"ticker\"] = us_holdings[\"ticker\"].apply(lambda x: x.split(\".\")[0])"
   ]
  },
  {
   "cell_type": "code",
   "execution_count": 29,
   "id": "54fb61c6",
   "metadata": {},
   "outputs": [],
   "source": [
    "# Remove tickers that have no pricing data\n",
    "close_data = pd.read_csv('raw_data/close_data.csv', index_col=\"date\")\n",
    "us_holdings = us_holdings[us_holdings.ticker.isin(close_data.columns)]"
   ]
  },
  {
   "cell_type": "markdown",
   "id": "2810e226",
   "metadata": {},
   "source": [
    "# Filter away data with put call flags"
   ]
  },
  {
   "cell_type": "code",
   "execution_count": 30,
   "id": "0f5f13f6",
   "metadata": {},
   "outputs": [],
   "source": [
    "us_holdings_cleaned = us_holdings[us_holdings.putCall.isna()].drop(columns = \"putCall\")"
   ]
  },
  {
   "cell_type": "code",
   "execution_count": 31,
   "id": "ef88a1ae",
   "metadata": {},
   "outputs": [],
   "source": [
    "del us_holdings"
   ]
  },
  {
   "cell_type": "code",
   "execution_count": 32,
   "id": "7ea7414d",
   "metadata": {
    "scrolled": true
   },
   "outputs": [
    {
     "name": "stdout",
     "output_type": "stream",
     "text": [
      "<class 'pandas.core.frame.DataFrame'>\n",
      "Int64Index: 69692583 entries, 0 to 74068588\n",
      "Data columns (total 14 columns):\n",
      " #   Column                      Dtype  \n",
      "---  ------                      -----  \n",
      " 0   year                        int64  \n",
      " 1   quarter                     int64  \n",
      " 2   cik                         int64  \n",
      " 3   company_name                object \n",
      " 4   date_filed                  object \n",
      " 5   date_holding                object \n",
      " 6   nameOfIssuer                object \n",
      " 7   titleOfClass                object \n",
      " 8   cusip                       object \n",
      " 9   value                       float64\n",
      " 10  shrsOrPrnAmt_sshPrnamt      float64\n",
      " 11  shrsOrPrnAmt_sshPrnamtType  object \n",
      " 12  filing_deadline             object \n",
      " 13  ticker                      object \n",
      "dtypes: float64(2), int64(3), object(9)\n",
      "memory usage: 7.8+ GB\n"
     ]
    }
   ],
   "source": [
    "us_holdings_cleaned.info()"
   ]
  },
  {
   "cell_type": "markdown",
   "id": "7bbdba48",
   "metadata": {},
   "source": [
    "# Filter away data with incorrect formats"
   ]
  },
  {
   "cell_type": "code",
   "execution_count": 34,
   "id": "b752c4cc",
   "metadata": {},
   "outputs": [],
   "source": [
    "import re\n",
    "def has_numbers(inputString):\n",
    "    return bool(re.search(r'\\d', inputString))"
   ]
  },
  {
   "cell_type": "code",
   "execution_count": 35,
   "id": "3e17c408",
   "metadata": {},
   "outputs": [],
   "source": [
    "share_types = [\"SH\", \"Sh\", \"S\", \"SHS\", \"shs\", \"SHR\", \"sh\", \"Shares\", \"SHARES\", \"Shrs\", \"SHRS\", \"Shs\", \"Shr\", \"X\", \"x\"]\n",
    "# Filter only for holding of shares (Remove things like warrants which uses PRN principal value)\n",
    "us_holdings_cleaned = us_holdings_cleaned[us_holdings_cleaned.shrsOrPrnAmt_sshPrnamtType.isin(share_types)].drop(columns = \"shrsOrPrnAmt_sshPrnamtType\")"
   ]
  },
  {
   "cell_type": "code",
   "execution_count": 36,
   "id": "39faaacc",
   "metadata": {},
   "outputs": [],
   "source": [
    "# Remove rows with zero shares\n",
    "us_holdings_cleaned = us_holdings_cleaned[us_holdings_cleaned.shrsOrPrnAmt_sshPrnamt != 0]"
   ]
  },
  {
   "cell_type": "code",
   "execution_count": 37,
   "id": "71e69f66",
   "metadata": {},
   "outputs": [],
   "source": [
    "# Remove filings with reported holding date not at quarter end \n",
    "us_holdings_cleaned = us_holdings_cleaned[us_holdings_cleaned.date_holding.apply(lambda x: \n",
    "                                                                                 x.endswith((\"03-31\",\"06-30\",\"09-30\",\"12-31\")))]"
   ]
  },
  {
   "cell_type": "code",
   "execution_count": 38,
   "id": "5d469fa5",
   "metadata": {},
   "outputs": [
    {
     "name": "stderr",
     "output_type": "stream",
     "text": [
      "C:\\Users\\ohste\\anaconda3\\envs\\fyp\\lib\\site-packages\\pandas\\core\\dtypes\\astype.py:189: RuntimeWarning: invalid value encountered in cast\n",
      "  return values.astype(dtype, copy=copy)\n"
     ]
    }
   ],
   "source": [
    "us_holdings_cleaned = us_holdings_cleaned[us_holdings_cleaned.shrsOrPrnAmt_sshPrnamt % 1 == 0]\n",
    "us_holdings_cleaned[\"shrsOrPrnAmt_sshPrnamt\"] = us_holdings_cleaned[\"shrsOrPrnAmt_sshPrnamt\"].astype(int)\n",
    "us_holdings_cleaned = us_holdings_cleaned[us_holdings_cleaned.shrsOrPrnAmt_sshPrnamt != 0]"
   ]
  },
  {
   "cell_type": "markdown",
   "id": "88352976",
   "metadata": {},
   "source": [
    "# Filter for only single-stock holdings (Remove ETFs, ETNs etc.)"
   ]
  },
  {
   "cell_type": "code",
   "execution_count": 39,
   "id": "c08b745b",
   "metadata": {},
   "outputs": [],
   "source": [
    "ticker_categories_filter = ticker_meta[ticker_meta.category.isin([x for x in ticker_meta.category.unique() \n",
    "                            if isinstance(x,str) and \"Stock\" in x and \"Warrant\" not in x])\n",
    "                                      ].ticker.dropna().apply(lambda x: x.split(\".\")[0])"
   ]
  },
  {
   "cell_type": "code",
   "execution_count": 40,
   "id": "5900d882",
   "metadata": {
    "scrolled": true
   },
   "outputs": [],
   "source": [
    "us_holdings_cleaned = us_holdings_cleaned[us_holdings_cleaned.ticker.isin(ticker_categories_filter)]"
   ]
  },
  {
   "cell_type": "markdown",
   "id": "a73c00de",
   "metadata": {},
   "source": [
    "# Aggregate same holdings (ignoring voting rights and investment manager)"
   ]
  },
  {
   "cell_type": "code",
   "execution_count": 41,
   "id": "7d69555a",
   "metadata": {},
   "outputs": [],
   "source": [
    "# Remove company name as can be mapped by cik\n",
    "# Remove nameOfIssuer as can be mapped by ticker\n",
    "# Remove cusip as using ticker to identify stock\n",
    "# Remove value as using number of shares\n",
    "# Remove filing deadline as can be mapped by date holding\n",
    "agg_us_holdings = us_holdings_cleaned.drop(columns=\n",
    "                         [\"company_name\",\"nameOfIssuer\",\"titleOfClass\", \"year\", \"quarter\", \"cusip\", \"value\", \"filing_deadline\"]\n",
    "                        ).reindex(columns=\n",
    "                                  [\"cik\",\"date_holding\",\"date_filed\",\"ticker\",\"shrsOrPrnAmt_sshPrnamt\"]\n",
    "                                 ).groupby(\n",
    "    [\"cik\",\"date_holding\",\"date_filed\",\"ticker\"]\n",
    ").shrsOrPrnAmt_sshPrnamt.sum().reset_index()"
   ]
  },
  {
   "cell_type": "code",
   "execution_count": null,
   "id": "114f4445",
   "metadata": {},
   "outputs": [],
   "source": [
    "agg_us_holdings.to_csv('cleaned_data/agg_us_holdings.csv', index=False)"
   ]
  },
  {
   "cell_type": "markdown",
   "id": "3d8cd99f",
   "metadata": {},
   "source": [
    "# Add price and quarterly returns feature"
   ]
  },
  {
   "cell_type": "code",
   "execution_count": null,
   "id": "7298e915",
   "metadata": {},
   "outputs": [],
   "source": [
    "data = pd.read_csv('cleaned_data/agg_us_holdings.csv')\n",
    "data[\"date_holding\"] = pd.to_datetime(data[\"date_holding\"])\n",
    "data[\"date_filed\"] = pd.to_datetime(data[\"date_filed\"])"
   ]
  },
  {
   "cell_type": "code",
   "execution_count": null,
   "id": "6e7678a7",
   "metadata": {},
   "outputs": [],
   "source": [
    "close_data = pd.read_csv('raw_data/close_data.csv', index_col=\"date\")\n",
    "close_data.index = pd.to_datetime(close_data.index)\n",
    "close_data_long = pd.melt(close_data, ignore_index=False, var_name=\"ticker\", value_name=\"price\").reset_index()"
   ]
  },
  {
   "cell_type": "code",
   "execution_count": null,
   "id": "2b90d396",
   "metadata": {},
   "outputs": [],
   "source": [
    "tmp = pd.merge_asof(data.sort_values('date_holding'), \n",
    "              close_data_long.sort_values('date'), \n",
    "              left_on=\"date_holding\", \n",
    "              right_on=\"date\",\n",
    "              by=\"ticker\",\n",
    "              tolerance=pd.Timedelta(days=4),\n",
    "              direction='backward'\n",
    "             )\n",
    "tmp = tmp.rename(columns={\"price\": \"buy_price\"})"
   ]
  },
  {
   "cell_type": "code",
   "execution_count": null,
   "id": "6b318ecd",
   "metadata": {},
   "outputs": [],
   "source": [
    "tmp[\"date_selloff\"] = tmp[\"date_holding\"] + pd.tseries.offsets.QuarterEnd()\n",
    "tmp = pd.merge_asof(tmp,\n",
    "                    close_data_long.sort_values('date'),\n",
    "                    left_on=\"date_selloff\", \n",
    "                    right_on=\"date\",\n",
    "                    by=\"ticker\",\n",
    "                    tolerance=pd.Timedelta(days=4),\n",
    "                    direction='backward'\n",
    "                   )\n",
    "tmp = tmp.rename(columns={\"price\": \"sell_price\"})"
   ]
  },
  {
   "cell_type": "code",
   "execution_count": null,
   "id": "b36f15de",
   "metadata": {},
   "outputs": [],
   "source": [
    "tmp = tmp.drop(columns=[\"date_x\", \"date_y\", \"date_selloff\"]).rename(columns = {\"shrsOrPrnAmt_sshPrnamt\": \"num_shares\"})\n",
    "tmp[\"value\"] = tmp[\"num_shares\"] * tmp[\"buy_price\"]\n",
    "tmp[\"quarter_return\"] = (tmp[\"sell_price\"] - tmp[\"buy_price\"]) / tmp[\"buy_price\"]\n",
    "tmp = tmp.dropna(subset=[\"buy_price\",\"sell_price\",\"value\",\"quarter_return\"])"
   ]
  },
  {
   "cell_type": "code",
   "execution_count": null,
   "id": "2aeee9fc",
   "metadata": {},
   "outputs": [],
   "source": [
    "tmp.to_csv('cleaned_data/agg_us_holdings.csv', index=False)"
   ]
  }
 ],
 "metadata": {
  "kernelspec": {
   "display_name": "Python 3 (ipykernel)",
   "language": "python",
   "name": "python3"
  },
  "language_info": {
   "codemirror_mode": {
    "name": "ipython",
    "version": 3
   },
   "file_extension": ".py",
   "mimetype": "text/x-python",
   "name": "python",
   "nbconvert_exporter": "python",
   "pygments_lexer": "ipython3",
   "version": "3.8.15"
  }
 },
 "nbformat": 4,
 "nbformat_minor": 5
}
